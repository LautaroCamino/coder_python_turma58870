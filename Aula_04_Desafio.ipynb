{
 "cells": [
  {
   "cell_type": "code",
   "execution_count": 7,
   "metadata": {},
   "outputs": [],
   "source": [
    "# Importar bibliotecas\n",
    "from plyer import notification\n",
    "from datetime import datetime\n",
    "\n",
    "# Definindo título com base no nível\n",
    "def alerta (nivel, base, etapa):\n",
    "    '''\n",
    "        Alerta de erro no carregamento da base\n",
    "    '''\n",
    "    if nivel == 1:\n",
    "        titulo = 'Alerta Baixo'\n",
    "    elif nivel == 2:\n",
    "        titulo = 'Alerta Médio'\n",
    "    elif nivel == 3:\n",
    "        titulo = 'Alerta Alto'\n",
    "    else:\n",
    "        return f'Nivel {nivel} da base {base} não identificado'\n",
    "# Mensagem de alerta\n",
    "    mensagem = f'Falha no carregamento da base {base} na etapa {etapa}'\n",
    "# Data atual\n",
    "    data_atual = datetime.now().strftime(\"%Y-%m-%d %H:%M:%S\")\n",
    "# Notificação\n",
    "    notification.notify(\n",
    "        title = titulo,\n",
    "        message = f'{mensagem} \\nData: {data_atual}',\n",
    "        app_name ='Sistema de Alertas',\n",
    "        timeout=10\n",
    "    )\n",
    "# Exemplo\n",
    "alerta(2, 'Clientes', 'Validação')"
   ]
  }
 ],
 "metadata": {
  "kernelspec": {
   "display_name": "Python 3",
   "language": "python",
   "name": "python3"
  },
  "language_info": {
   "codemirror_mode": {
    "name": "ipython",
    "version": 3
   },
   "file_extension": ".py",
   "mimetype": "text/x-python",
   "name": "python",
   "nbconvert_exporter": "python",
   "pygments_lexer": "ipython3",
   "version": "3.10.4"
  }
 },
 "nbformat": 4,
 "nbformat_minor": 2
}
