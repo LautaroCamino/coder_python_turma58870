{
 "cells": [
  {
   "cell_type": "code",
   "execution_count": 2,
   "metadata": {},
   "outputs": [],
   "source": [
    "#Teste myenv\n",
    "import pandas as pd"
   ]
  },
  {
   "cell_type": "markdown",
   "metadata": {},
   "source": [
    "# Projeto"
   ]
  },
  {
   "cell_type": "code",
   "execution_count": null,
   "metadata": {},
   "outputs": [],
   "source": [
    "import requests\n",
    "import sqlite3\n",
    "from plyer import notification\n",
    "from pyspark.sql import SparkSession\n",
    "from pyspark.sql.functions import col, explode"
   ]
  },
  {
   "cell_type": "code",
   "execution_count": null,
   "metadata": {},
   "outputs": [],
   "source": [
    "# Função para exibir alerta usando plyer\n",
    "def alerta():\n",
    "    notification.notify(\n",
    "        title='Erro na API!',\n",
    "        message='Ocorreu um erro ao acessar a API.',\n",
    "        timeout=5  \n",
    "    )"
   ]
  },
  {
   "cell_type": "code",
   "execution_count": null,
   "metadata": {},
   "outputs": [],
   "source": [
    "# URL base da API\n",
    "base_url = 'https://pokeapi.co/api/v2/pokemon'"
   ]
  },
  {
   "cell_type": "code",
   "execution_count": null,
   "metadata": {},
   "outputs": [],
   "source": [
    "# Função para buscar dados da API\n",
    "def buscar_dados():\n",
    "    try:\n",
    "        response = requests.get(base_url)\n",
    "        if response.status_code == 200:\n",
    "            data = response.json()\n",
    "            return data\n",
    "        else:\n",
    "            alerta()\n",
    "            return None\n",
    "    except requests.exceptions.RequestException as e:\n",
    "        alerta()\n",
    "        return None"
   ]
  },
  {
   "cell_type": "code",
   "execution_count": null,
   "metadata": {},
   "outputs": [],
   "source": [
    "# Configurando uma sessão do Spark\n",
    "spark = SparkSession.builder \\\n",
    "    .appName(\"Extracao e Tratamento de Dados de Pokemon\") \\\n",
    "    .getOrCreate()"
   ]
  },
  {
   "cell_type": "code",
   "execution_count": null,
   "metadata": {},
   "outputs": [],
   "source": [
    "# Função para extrair dados brutos e retornar um DataFrame PySpark\n",
    "def extrair_dados_brutos():\n",
    "    data = buscar_dados()\n",
    "    if data:\n",
    "        pokemons = data['results'][:10]  # 10 primeiros pokémons\n",
    "        dados_brutos = []\n",
    "\n",
    "        for pokemon in pokemons:\n",
    "            response = requests.get(pokemon['url'])\n",
    "            if response.status_code == 200:\n",
    "                pokemon_data = response.json()\n",
    "                abilities = [ability['ability']['name'].capitalize() for ability in pokemon_data['abilities']]\n",
    "                types = [t['type']['name'].capitalize() for t in pokemon_data['types']]\n",
    "                dados_brutos.append({\n",
    "                    'ID': pokemon_data['id'],\n",
    "                    'Nome': pokemon_data['name'].capitalize(),\n",
    "                    'Altura': pokemon_data['height'],\n",
    "                    'Peso': pokemon_data['weight'],\n",
    "                    'Habilidades': abilities,\n",
    "                    'Tipos': types\n",
    "                })\n",
    "        df = spark.createDataFrame(dados_brutos)\n",
    "        return df\n",
    "    else:\n",
    "        return None"
   ]
  },
  {
   "cell_type": "code",
   "execution_count": null,
   "metadata": {},
   "outputs": [],
   "source": [
    "# Função para processar os dados usando PySpark\n",
    "def processar_dados_com_spark():\n",
    "    # Extraindo dados brutos\n",
    "    df = extrair_dados_brutos()\n",
    "    if df is not None:\n",
    "        # Tabela 1: Dados Básicos\n",
    "        df_dados_basicos = df.select('ID', 'Nome', 'Altura', 'Peso')\n",
    "\n",
    "        # Tabela 2: Habilidades dos Pokémon\n",
    "        df_habilidades = df.select('ID', explode(col('Habilidades')).alias('Habilidade'))\n",
    "\n",
    "        # Tabela 3: Tipos dos Pokémon\n",
    "        df_tipos = df.select('ID', explode(col('Tipos')).alias('Tipo'))\n",
    "\n",
    "        # Exibindo DataFrames tratados\n",
    "        print(\"\\nTabela 1: Dados Básicos\")\n",
    "        df_dados_basicos.show()\n",
    "\n",
    "        print(\"\\nTabela 2: Habilidades dos Pokémon\")\n",
    "        df_habilidades.show()\n",
    "\n",
    "        print(\"\\nTabela 3: Tipos dos Pokémon\")\n",
    "        df_tipos.show()\n",
    "\n",
    "        # Salvando dados tratados em um banco de dados SQLite\n",
    "        salvar_dados_no_sqlite(df_dados_basicos, 'pokemon_db.sqlite', 'pokemon_dados_basicos')\n",
    "        salvar_dados_no_sqlite(df_habilidades, 'pokemon_db.sqlite', 'pokemon_habilidades')\n",
    "        salvar_dados_no_sqlite(df_tipos, 'pokemon_db.sqlite', 'pokemon_tipos')\n",
    "\n",
    "    else:\n",
    "        print(\"Não foi possível extrair dados da API.\")\n",
    "\n",
    "    # Encerrando a sessão do Spark\n",
    "    spark.stop()"
   ]
  },
  {
   "cell_type": "code",
   "execution_count": null,
   "metadata": {},
   "outputs": [],
   "source": [
    "# Função para salvar dados em um banco de dados SQLite\n",
    "def salvar_dados_no_sqlite(dataframe, db_file, table_name):\n",
    "    # Salvar DataFrame Spark no SQLite\n",
    "    dataframe.write.format(\"jdbc\") \\\n",
    "        .option(\"url\", \"jdbc:sqlite:\" + db_file) \\\n",
    "        .option(\"dbtable\", table_name) \\\n",
    "        .option(\"mode\", \"overwrite\") \\\n",
    "        .save()\n"
   ]
  },
  {
   "cell_type": "code",
   "execution_count": null,
   "metadata": {},
   "outputs": [],
   "source": [
    "# Chamada da função principal para execução com PySpark\n",
    "processar_dados_com_spark()"
   ]
  }
 ],
 "metadata": {
  "kernelspec": {
   "display_name": "myenv",
   "language": "python",
   "name": "python3"
  },
  "language_info": {
   "codemirror_mode": {
    "name": "ipython",
    "version": 3
   },
   "file_extension": ".py",
   "mimetype": "text/x-python",
   "name": "python",
   "nbconvert_exporter": "python",
   "pygments_lexer": "ipython3",
   "version": "3.10.4"
  }
 },
 "nbformat": 4,
 "nbformat_minor": 2
}
